{
 "cells": [
  {
   "cell_type": "markdown",
   "metadata": {},
   "source": [
    "# Artificial Intelligence"
   ]
  },
  {
   "cell_type": "markdown",
   "metadata": {},
   "source": [
    "## Import Libraries"
   ]
  },
  {
   "cell_type": "code",
   "execution_count": 1,
   "metadata": {},
   "outputs": [],
   "source": [
    "from ai.DataLoader import DataLoader\n",
    "from ai.TrashClassifier import TrashClassifier\n",
    "from env import *\n",
    "\n",
    "import torch\n",
    "import torch.nn as nn\n",
    "import torch.optim as optim"
   ]
  },
  {
   "cell_type": "code",
   "execution_count": 2,
   "metadata": {},
   "outputs": [
    {
     "name": "stdout",
     "output_type": "stream",
     "text": [
      "Number of data batch: 503\n",
      "Number of batch: 51\n",
      "Number of data batch: 62\n",
      "Number of batch: 7\n"
     ]
    }
   ],
   "source": [
    "train_dloader = DataLoader(TRASH_TRAIN_DATA_PATH, TRASH_CAT)\n",
    "valid_dloader = DataLoader(TRASH_VALID_DATA_PATH, TRASH_CAT)"
   ]
  },
  {
   "cell_type": "code",
   "execution_count": 3,
   "metadata": {},
   "outputs": [],
   "source": [
    "model = TrashClassifier()\n",
    "model = model.cuda()"
   ]
  },
  {
   "cell_type": "code",
   "execution_count": 4,
   "metadata": {},
   "outputs": [],
   "source": [
    "criterion = nn.NLLLoss()\n",
    "optimizer = optim.Adam(model.parameters(), lr=ETA)"
   ]
  },
  {
   "cell_type": "code",
   "execution_count": null,
   "metadata": {},
   "outputs": [],
   "source": [
    "for e in range(EPOCHS):\n",
    "    \n",
    "    # loss and accuracy on train dataset.\n",
    "    train_loss = 0.0\n",
    "    train_acc = 0.0\n",
    "    \n",
    "    # loss and accuracy on valid dataset.\n",
    "    val_loss = 0.0\n",
    "    val_acc = 0.0\n",
    "    \n",
    "    # train step\n",
    "    for x_batch, y_batch in train_dloader.next_batch():\n",
    "        x_batch = torch.tensor(x_batch).float().cuda()\n",
    "        y_batch = torch.tensor(y_batch).long().cuda()\n",
    "        \n",
    "        # forward propagation\n",
    "        logps = model(x_batch)\n",
    "        loss = criterion(logps, y_batch)\n",
    "        train_loss += loss.item()\n",
    "        \n",
    "        # compute train accuracy\n",
    "        with torch.no_grad():\n",
    "            ps = torch.exp(logps)\n",
    "            val_k, ind_k = ps.topk(1, dim=1)\n",
    "            equal = ind_k == y_batch.view(*ind_k.shape)\n",
    "            train_acc += torch.mean(equal.type(torch.FloatTensor)).item()\n",
    "            \n",
    "        # backward propagation\n",
    "        optimizer.zero_grad()\n",
    "        loss.backward()\n",
    "        optimizer.step()\n",
    "        \n",
    "    # validation step\n",
    "    model.eval()\n",
    "    with torch.no_grad():\n",
    "        for x_batch, y_batch in valid_dloader.next_batch():\n",
    "            x_batch = torch.tensor(x_batch).float().cuda()\n",
    "            y_batch = torch.tensor(y_batch).long().cuda()\n",
    "            \n",
    "            # compute validation loss\n",
    "            logps = model(x_batch)\n",
    "            loss = criterion(logps, y_batch)\n",
    "            val_loss += loss.item()\n",
    "            \n",
    "            # compute validation accuracy\n",
    "            ps = torch.exp(logps)\n",
    "            value_k, index_k = ps.topk(1, dim=1)\n",
    "            equal = index_k == y_batch.view(*index_k.size())\n",
    "            val_acc += torch.mean(equal.type(torch.FloatTensor)).item()\n",
    "        \n",
    "    train_loss /= len(train_dloader)\n",
    "    train_acc /= len(train_dloader)\n",
    "    val_loss /= len(valid_dloader)\n",
    "    val_acc /= len(valid_dloader)\n",
    "    \n",
    "    print(f\"Epochs {e+1}/{EPOCHS}\")\n",
    "    print(f\"Train loss: {train_loss:.8f}\")\n",
    "    print(f\"Train acc: {train_acc:.8f}\")\n",
    "    print(f\"Valid loss: {val_loss:.8f}\")\n",
    "    print(f\"Valid acc: {val_acc:.8f}\")\n",
    "    \n",
    "    model.train()"
   ]
  },
  {
   "cell_type": "code",
   "execution_count": null,
   "metadata": {},
   "outputs": [],
   "source": []
  }
 ],
 "metadata": {
  "kernelspec": {
   "display_name": "Python 3",
   "language": "python",
   "name": "python3"
  },
  "language_info": {
   "codemirror_mode": {
    "name": "ipython",
    "version": 3
   },
   "file_extension": ".py",
   "mimetype": "text/x-python",
   "name": "python",
   "nbconvert_exporter": "python",
   "pygments_lexer": "ipython3",
   "version": "3.7.3"
  }
 },
 "nbformat": 4,
 "nbformat_minor": 2
}
