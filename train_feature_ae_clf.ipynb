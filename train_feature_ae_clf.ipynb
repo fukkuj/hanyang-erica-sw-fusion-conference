{
 "cells": [
  {
   "cell_type": "code",
   "execution_count": 1,
   "metadata": {},
   "outputs": [],
   "source": [
    "import torch\n",
    "import torch.nn as nn\n",
    "import torch.optim as optim\n",
    "\n",
    "import numpy as np\n",
    "import matplotlib.pyplot as plt\n",
    "\n",
    "from ai.TrashClassifierAE import TrashClassifier\n",
    "from ai.DataLoader2 import DataLoader\n",
    "from env import *\n",
    "\n",
    "EPOCHS = 200\n",
    "ETA = 1e-2"
   ]
  },
  {
   "cell_type": "code",
   "execution_count": 2,
   "metadata": {},
   "outputs": [
    {
     "name": "stdout",
     "output_type": "stream",
     "text": [
      "FeatureAE was loaded.\n"
     ]
    }
   ],
   "source": [
    "model = TrashClassifier(fine_tune=False)\n",
    "model = model.cuda()"
   ]
  },
  {
   "cell_type": "code",
   "execution_count": 3,
   "metadata": {},
   "outputs": [
    {
     "name": "stdout",
     "output_type": "stream",
     "text": [
      "Number of data: 540\n",
      "Number of batch: 67\n",
      "Number of data: 80\n",
      "Number of batch: 10\n"
     ]
    }
   ],
   "source": [
    "train_dloader = DataLoader(TRAIN_DATA_PATH, TRASH_CAT)\n",
    "valid_dloader = DataLoader(VALID_DATA_PATH, TRASH_CAT)"
   ]
  },
  {
   "cell_type": "code",
   "execution_count": 4,
   "metadata": {},
   "outputs": [],
   "source": [
    "optimizer = optim.Adam(model.parameters(), lr=ETA)\n",
    "criterion = nn.NLLLoss()"
   ]
  },
  {
   "cell_type": "code",
   "execution_count": null,
   "metadata": {},
   "outputs": [
    {
     "name": "stdout",
     "output_type": "stream",
     "text": [
      "Epochs: 10/200\n",
      "Train loss: 0.31138078\n",
      "Train acc: 0.88805962\n",
      "Valid loss: 0.72743344\n",
      "Valid acc: 0.76666671\n",
      "Trash Classifier was saved.\n",
      "Epochs: 20/200\n",
      "Train loss: 0.28791501\n",
      "Train acc: 0.92288560\n",
      "Valid loss: 0.83341475\n",
      "Valid acc: 0.76666665\n",
      "Epochs: 30/200\n",
      "Train loss: 0.31787740\n",
      "Train acc: 0.90547246\n",
      "Valid loss: 0.59699729\n",
      "Valid acc: 0.81666672\n",
      "Trash Classifier was saved.\n",
      "Epochs: 40/200\n",
      "Train loss: 0.14167165\n",
      "Train acc: 0.95522380\n",
      "Valid loss: 0.59832948\n",
      "Valid acc: 0.83333337\n",
      "Trash Classifier was saved.\n",
      "Epochs: 50/200\n",
      "Train loss: 0.23264354\n",
      "Train acc: 0.91293520\n",
      "Valid loss: 0.58950549\n",
      "Valid acc: 0.83333337\n"
     ]
    }
   ],
   "source": [
    "\n",
    "top_valid_acc = 0.0\n",
    "\n",
    "for e in range(EPOCHS):\n",
    "    \n",
    "    train_loss = 0.0\n",
    "    train_acc = 0.0\n",
    "    valid_loss = 0.0\n",
    "    valid_acc = 0.0\n",
    "    \n",
    "    for x_batch, y_batch in train_dloader.next_batch():\n",
    "        x_batch = torch.FloatTensor(x_batch).cuda()\n",
    "        y_batch = torch.LongTensor(y_batch).cuda()\n",
    "        \n",
    "        logps = model(x_batch)\n",
    "        loss = criterion(logps, y_batch)\n",
    "        \n",
    "        with torch.no_grad():\n",
    "            train_loss += loss.item()\n",
    "            ps = torch.exp(logps)\n",
    "            \n",
    "            ps_k, cls_k = ps.topk(1, dim=1)\n",
    "            equal = cls_k == y_batch.view(*cls_k.size())\n",
    "            train_acc += torch.mean(equal.type(torch.FloatTensor))\n",
    "        \n",
    "        optimizer.zero_grad()\n",
    "        loss.backward()\n",
    "        optimizer.step()\n",
    "    \n",
    "    if (e+1) % 10 == 0:\n",
    "        with torch.no_grad():\n",
    "            model.eval()\n",
    "\n",
    "            for x_batch, y_batch in valid_dloader.next_batch():\n",
    "                x_batch = torch.FloatTensor(x_batch).cuda()\n",
    "                y_batch = torch.LongTensor(y_batch).cuda()\n",
    "\n",
    "                logps = model(x_batch)\n",
    "                loss = criterion(logps, y_batch)\n",
    "\n",
    "                valid_loss += loss.item()\n",
    "\n",
    "                ps = torch.exp(logps)\n",
    "                ps_k, cls_k = ps.topk(1, dim=1)\n",
    "                equal = cls_k == y_batch.view(*cls_k.size())\n",
    "                valid_acc += torch.mean(equal.type(torch.FloatTensor))\n",
    "\n",
    "            train_loss /= len(train_dloader)\n",
    "            train_acc /= len(train_dloader)\n",
    "            valid_loss /= len(valid_dloader)\n",
    "            valid_acc /= len(valid_dloader)\n",
    "\n",
    "            print(f\"Epochs: {e+1}/{EPOCHS}\")\n",
    "            print(f\"Train loss: {train_loss:.8f}\")\n",
    "            print(f\"Train acc: {train_acc:.8f}\")\n",
    "            print(f\"Valid loss: {valid_loss:.8f}\")\n",
    "            print(f\"Valid acc: {valid_acc:.8f}\")\n",
    "            \n",
    "            if valid_acc > top_valid_acc:\n",
    "                model.save(CLF_CKPT_PATH)\n",
    "                top_valid_acc = valid_acc\n",
    "\n",
    "            model.train()"
   ]
  },
  {
   "cell_type": "code",
   "execution_count": null,
   "metadata": {},
   "outputs": [],
   "source": []
  },
  {
   "cell_type": "code",
   "execution_count": 7,
   "metadata": {},
   "outputs": [
    {
     "data": {
      "text/plain": [
       "3"
      ]
     },
     "execution_count": 7,
     "metadata": {},
     "output_type": "execute_result"
    }
   ],
   "source": [
    "1+2"
   ]
  },
  {
   "cell_type": "code",
   "execution_count": null,
   "metadata": {},
   "outputs": [],
   "source": []
  }
 ],
 "metadata": {
  "kernelspec": {
   "display_name": "Python 3",
   "language": "python",
   "name": "python3"
  },
  "language_info": {
   "codemirror_mode": {
    "name": "ipython",
    "version": 3
   },
   "file_extension": ".py",
   "mimetype": "text/x-python",
   "name": "python",
   "nbconvert_exporter": "python",
   "pygments_lexer": "ipython3",
   "version": "3.7.4"
  }
 },
 "nbformat": 4,
 "nbformat_minor": 4
}
