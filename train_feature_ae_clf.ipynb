{
 "cells": [
  {
   "cell_type": "code",
   "execution_count": 1,
   "metadata": {},
   "outputs": [],
   "source": [
    "import torch\n",
    "import torch.nn as nn\n",
    "import torch.optim as optim\n",
    "\n",
    "import numpy as np\n",
    "import matplotlib.pyplot as plt\n",
    "\n",
    "from ai.TrashClassifierAE.py import TrashClassifier\n",
    "from ai.DataLoader import DataLoader\n",
    "from env import *"
   ]
  },
  {
   "cell_type": "code",
   "execution_count": 2,
   "metadata": {},
   "outputs": [],
   "source": [
    "model = TrashClassifier(fine_tune=False)\n",
    "model = model.cuda()"
   ]
  },
  {
   "cell_type": "code",
   "execution_count": 3,
   "metadata": {},
   "outputs": [
    {
     "name": "stdout",
     "output_type": "stream",
     "text": [
      "Number of data batch: 503\n",
      "Number of batch: 36\n"
     ]
    }
   ],
   "source": [
    "train_dloader = DataLoader(TRASH_TRAIN_DATA_PATH, TRASH_CAT)\n",
    "valid_dloader = DataLoader(TRASH_VALID_DATA_PATH, TRASH_CAT)"
   ]
  },
  {
   "cell_type": "code",
   "execution_count": 4,
   "metadata": {},
   "outputs": [],
   "source": [
    "optimizer = optim.Adam(model.parameters(), lr=ETA)\n",
    "criterion = nn.NLLLoss()"
   ]
  },
  {
   "cell_type": "code",
   "execution_count": 5,
   "metadata": {},
   "outputs": [
    {
     "ename": "TypeError",
     "evalue": "can't convert CUDA tensor to numpy. Use Tensor.cpu() to copy the tensor to host memory first.",
     "output_type": "error",
     "traceback": [
      "\u001b[1;31m---------------------------------------------------------------------------\u001b[0m",
      "\u001b[1;31mTypeError\u001b[0m                                 Traceback (most recent call last)",
      "\u001b[1;32m<ipython-input-5-5604be6573ff>\u001b[0m in \u001b[0;36m<module>\u001b[1;34m\u001b[0m\n\u001b[0;32m     21\u001b[0m         \u001b[0mtrain_loss\u001b[0m \u001b[1;33m/=\u001b[0m \u001b[0mlen\u001b[0m\u001b[1;33m(\u001b[0m\u001b[0mdloader\u001b[0m\u001b[1;33m)\u001b[0m\u001b[1;33m\u001b[0m\u001b[1;33m\u001b[0m\u001b[0m\n\u001b[0;32m     22\u001b[0m \u001b[1;33m\u001b[0m\u001b[0m\n\u001b[1;32m---> 23\u001b[1;33m         \u001b[0mtest_image\u001b[0m \u001b[1;33m=\u001b[0m \u001b[0mx_batch\u001b[0m\u001b[1;33m.\u001b[0m\u001b[0mnumpy\u001b[0m\u001b[1;33m(\u001b[0m\u001b[1;33m)\u001b[0m\u001b[1;33m[\u001b[0m\u001b[1;36m0\u001b[0m\u001b[1;33m]\u001b[0m\u001b[1;33m\u001b[0m\u001b[1;33m\u001b[0m\u001b[0m\n\u001b[0m\u001b[0;32m     24\u001b[0m         \u001b[0mtest_image\u001b[0m \u001b[1;33m=\u001b[0m \u001b[1;33m(\u001b[0m\u001b[0mtest_image\u001b[0m \u001b[1;33m+\u001b[0m \u001b[1;36m1\u001b[0m\u001b[1;33m)\u001b[0m \u001b[1;33m*\u001b[0m \u001b[1;36m128\u001b[0m\u001b[1;33m\u001b[0m\u001b[1;33m\u001b[0m\u001b[0m\n\u001b[0;32m     25\u001b[0m         \u001b[0mtest_image\u001b[0m \u001b[1;33m=\u001b[0m \u001b[0mtest_image\u001b[0m\u001b[1;33m.\u001b[0m\u001b[0mastype\u001b[0m\u001b[1;33m(\u001b[0m\u001b[0mnp\u001b[0m\u001b[1;33m.\u001b[0m\u001b[0mubyte\u001b[0m\u001b[1;33m)\u001b[0m\u001b[1;33m\u001b[0m\u001b[1;33m\u001b[0m\u001b[0m\n",
      "\u001b[1;31mTypeError\u001b[0m: can't convert CUDA tensor to numpy. Use Tensor.cpu() to copy the tensor to host memory first."
     ]
    }
   ],
   "source": [
    "for e in range(EPOCHS):\n",
    "    \n",
    "    train_loss = 0.0\n",
    "    train_acc = 0.0\n",
    "    valid_loss = 0.0\n",
    "    valid_acc = 0.0\n",
    "    \n",
    "    for x_batch, y_batch in train_dloader.next_batch():\n",
    "        x_batch = torch.FloatTensor(x_batch).cuda()\n",
    "        y_batch = torch.LongTensor(y_batch).cuda()\n",
    "        \n",
    "        logps = model(x_batch)\n",
    "        loss = criterion(logps, y_batch)\n",
    "        \n",
    "        with torch.no_grad():\n",
    "            train_loss += loss.item()\n",
    "            ps = torch.exp(logps)\n",
    "            \n",
    "            ps_k, cls_k = ps.topk(1, dim=1)\n",
    "            equal = cls_k == y_batch.view(*cls_k.size())\n",
    "            train_acc += torch.mean(equal.type(torch.FloatTensor))\n",
    "        \n",
    "        optimizer.zero_grad()\n",
    "        loss.backward()\n",
    "        optimizer.step()\n",
    "    \n",
    "    with torch.no_grad():\n",
    "        ae.eval()\n",
    "        \n",
    "        for x_batch, y_batch in valid_dloader.next_batch():\n",
    "            x_batch = torch.FloatTensor(x_batch).cuda()\n",
    "            y_batch = torch.LongTensor(y_batch).cuda()\n",
    "            \n",
    "            logps = model(x_batch)\n",
    "            loss = criterion(logps, y_batch)\n",
    "            \n",
    "            valid_loss += loss.item()\n",
    "            \n",
    "            ps = torch.exp(logps)\n",
    "            ps_k, cls_k = ps.topk(1, dim=1)\n",
    "            equal = cls_k == y_batch.view(*cls_k.size())\n",
    "            valid_acc += torch.mean(equal.type(torch.FloatTensor))\n",
    "        \n",
    "        train_loss /= len(train_dloader)\n",
    "        train_acc /= len(train_dloader)\n",
    "        valid_loss /= len(valid_dloader)\n",
    "        valid_acc /= len(valid_dloader)\n",
    "        \n",
    "        print(f\"Epochs: {e+1}/{EPOCHS}\")\n",
    "        print(f\"Train loss: {train_loss:.8f}\")\n",
    "        print(f\"Train acc: {train_acc:.8f}\")\n",
    "        print(f\"Valid loss: {valid_loss:.8f}\")\n",
    "        print(f\"Valid acc: {valid_acc:.8f}\")\n",
    "        \n",
    "        ae.train()"
   ]
  },
  {
   "cell_type": "code",
   "execution_count": null,
   "metadata": {},
   "outputs": [],
   "source": []
  }
 ],
 "metadata": {
  "kernelspec": {
   "display_name": "Python 3",
   "language": "python",
   "name": "python3"
  },
  "language_info": {
   "codemirror_mode": {
    "name": "ipython",
    "version": 3
   },
   "file_extension": ".py",
   "mimetype": "text/x-python",
   "name": "python",
   "nbconvert_exporter": "python",
   "pygments_lexer": "ipython3",
   "version": "3.7.3"
  }
 },
 "nbformat": 4,
 "nbformat_minor": 2
}
