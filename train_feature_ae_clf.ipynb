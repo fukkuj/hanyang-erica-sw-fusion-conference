{
 "cells": [
  {
   "cell_type": "code",
   "execution_count": 1,
   "metadata": {},
   "outputs": [],
   "source": [
    "import torch\n",
    "import torch.nn as nn\n",
    "import torch.optim as optim\n",
    "\n",
    "import numpy as np\n",
    "import matplotlib.pyplot as plt\n",
    "\n",
    "from ai.TrashClassifierAE import TrashClassifier\n",
    "from ai.DataLoader import DataLoader\n",
    "from env import *\n",
    "\n",
    "EPOCHS = 30\n",
    "ETA = 1e-3"
   ]
  },
  {
   "cell_type": "code",
   "execution_count": 2,
   "metadata": {},
   "outputs": [
    {
     "name": "stdout",
     "output_type": "stream",
     "text": [
      "FeatureAE was loaded.\n"
     ]
    }
   ],
   "source": [
    "model = TrashClassifier(fine_tune=False)\n",
    "model = model.cuda()"
   ]
  },
  {
   "cell_type": "code",
   "execution_count": 3,
   "metadata": {},
   "outputs": [
    {
     "name": "stdout",
     "output_type": "stream",
     "text": [
      "Number of data batch: 99\n",
      "Number of batch: 17\n"
     ]
    }
   ],
   "source": [
    "train_dloader = DataLoader(TRASH_TRAIN_DATA_PATH, TRASH_CAT)\n",
    "# valid_dloader = DataLoader(TRASH_VALID_DATA_PATH, TRASH_CAT)"
   ]
  },
  {
   "cell_type": "code",
   "execution_count": 4,
   "metadata": {},
   "outputs": [],
   "source": [
    "optimizer = optim.Adam(model.parameters(), lr=ETA)\n",
    "criterion = nn.NLLLoss()"
   ]
  },
  {
   "cell_type": "code",
   "execution_count": 5,
   "metadata": {},
   "outputs": [
    {
     "name": "stdout",
     "output_type": "stream",
     "text": [
      "Epochs: 1/30\n",
      "Train loss: 0.95999736\n",
      "Train acc: 0.61764711\n",
      "Epochs: 2/30\n",
      "Train loss: 0.63592221\n",
      "Train acc: 0.80147064\n",
      "Epochs: 3/30\n",
      "Train loss: 0.46344814\n",
      "Train acc: 0.88235289\n",
      "Epochs: 4/30\n",
      "Train loss: 0.39271352\n",
      "Train acc: 0.90931362\n",
      "Epochs: 5/30\n",
      "Train loss: 0.28759875\n",
      "Train acc: 0.93382359\n",
      "Epochs: 6/30\n",
      "Train loss: 0.25113038\n",
      "Train acc: 0.94607860\n",
      "Epochs: 7/30\n",
      "Train loss: 0.24193086\n",
      "Train acc: 0.93382347\n",
      "Epochs: 8/30\n",
      "Train loss: 0.19137471\n",
      "Train acc: 0.95098025\n",
      "Epochs: 9/30\n",
      "Train loss: 0.19977034\n",
      "Train acc: 0.96078426\n",
      "Epochs: 10/30\n",
      "Train loss: 0.14932209\n",
      "Train acc: 0.96568614\n",
      "Epochs: 11/30\n",
      "Train loss: 0.14176254\n",
      "Train acc: 0.97058815\n",
      "Epochs: 12/30\n",
      "Train loss: 0.10854277\n",
      "Train acc: 0.98039198\n",
      "Epochs: 13/30\n",
      "Train loss: 0.09819748\n",
      "Train acc: 0.98284304\n",
      "Epochs: 14/30\n",
      "Train loss: 0.09742226\n",
      "Train acc: 0.97303915\n",
      "Epochs: 15/30\n",
      "Train loss: 0.07802739\n",
      "Train acc: 0.98774505\n",
      "Epochs: 16/30\n",
      "Train loss: 0.07053617\n",
      "Train acc: 0.98774505\n",
      "Epochs: 17/30\n",
      "Train loss: 0.07162534\n",
      "Train acc: 0.98774505\n",
      "Epochs: 18/30\n",
      "Train loss: 0.06880910\n",
      "Train acc: 0.98529410\n",
      "Epochs: 19/30\n",
      "Train loss: 0.14015783\n",
      "Train acc: 0.97058821\n",
      "Epochs: 20/30\n",
      "Train loss: 0.11155848\n",
      "Train acc: 0.97058815\n",
      "Epochs: 21/30\n",
      "Train loss: 0.08140873\n",
      "Train acc: 0.98039210\n",
      "Epochs: 22/30\n",
      "Train loss: 0.06557382\n",
      "Train acc: 0.98284304\n",
      "Epochs: 23/30\n",
      "Train loss: 0.04992341\n",
      "Train acc: 0.99264705\n",
      "Epochs: 24/30\n",
      "Train loss: 0.05054452\n",
      "Train acc: 0.99019599\n",
      "Epochs: 25/30\n",
      "Train loss: 0.03761625\n",
      "Train acc: 0.99509799\n",
      "Epochs: 26/30\n",
      "Train loss: 0.04066735\n",
      "Train acc: 0.99754906\n",
      "Epochs: 27/30\n",
      "Train loss: 0.05093313\n",
      "Train acc: 0.98774517\n",
      "Epochs: 28/30\n",
      "Train loss: 0.03780342\n",
      "Train acc: 0.99264705\n",
      "Epochs: 29/30\n",
      "Train loss: 0.02784744\n",
      "Train acc: 1.00000000\n",
      "Epochs: 30/30\n",
      "Train loss: 0.03132830\n",
      "Train acc: 0.99019599\n"
     ]
    }
   ],
   "source": [
    "for e in range(EPOCHS):\n",
    "    \n",
    "    train_loss = 0.0\n",
    "    train_acc = 0.0\n",
    "    valid_loss = 0.0\n",
    "    valid_acc = 0.0\n",
    "    \n",
    "    for x_batch, y_batch in train_dloader.next_batch():\n",
    "        x_batch = torch.FloatTensor(x_batch).cuda()\n",
    "        y_batch = torch.LongTensor(y_batch).cuda()\n",
    "        \n",
    "        logps = model(x_batch)\n",
    "        loss = criterion(logps, y_batch)\n",
    "        \n",
    "        with torch.no_grad():\n",
    "            train_loss += loss.item()\n",
    "            ps = torch.exp(logps)\n",
    "            \n",
    "            ps_k, cls_k = ps.topk(1, dim=1)\n",
    "            equal = cls_k == y_batch.view(*cls_k.size())\n",
    "            train_acc += torch.mean(equal.type(torch.FloatTensor))\n",
    "        \n",
    "        optimizer.zero_grad()\n",
    "        loss.backward()\n",
    "        optimizer.step()\n",
    "    \n",
    "    with torch.no_grad():\n",
    "        model.eval()\n",
    "        \n",
    "        #for x_batch, y_batch in valid_dloader.next_batch():\n",
    "        #    x_batch = torch.FloatTensor(x_batch).cuda()\n",
    "        #    y_batch = torch.LongTensor(y_batch).cuda()\n",
    "            \n",
    "        #    logps = model(x_batch)\n",
    "        #    loss = criterion(logps, y_batch)\n",
    "            \n",
    "        #    valid_loss += loss.item()\n",
    "            \n",
    "        #    ps = torch.exp(logps)\n",
    "        #    ps_k, cls_k = ps.topk(1, dim=1)\n",
    "        #    equal = cls_k == y_batch.view(*cls_k.size())\n",
    "        #    valid_acc += torch.mean(equal.type(torch.FloatTensor))\n",
    "        \n",
    "        train_loss /= len(train_dloader)\n",
    "        train_acc /= len(train_dloader)\n",
    "        #valid_loss /= len(valid_dloader)\n",
    "        #valid_acc /= len(valid_dloader)\n",
    "        \n",
    "        print(f\"Epochs: {e+1}/{EPOCHS}\")\n",
    "        print(f\"Train loss: {train_loss:.8f}\")\n",
    "        print(f\"Train acc: {train_acc:.8f}\")\n",
    "        #print(f\"Valid loss: {valid_loss:.8f}\")\n",
    "        #print(f\"Valid acc: {valid_acc:.8f}\")\n",
    "        \n",
    "        model.train()"
   ]
  },
  {
   "cell_type": "code",
   "execution_count": 6,
   "metadata": {},
   "outputs": [
    {
     "name": "stdout",
     "output_type": "stream",
     "text": [
      "Trash Classifier was saved.\n"
     ]
    }
   ],
   "source": [
    "model.save(CLF_CKPT_PATH)"
   ]
  },
  {
   "cell_type": "code",
   "execution_count": null,
   "metadata": {},
   "outputs": [],
   "source": []
  }
 ],
 "metadata": {
  "kernelspec": {
   "display_name": "Python 3",
   "language": "python",
   "name": "python3"
  },
  "language_info": {
   "codemirror_mode": {
    "name": "ipython",
    "version": 3
   },
   "file_extension": ".py",
   "mimetype": "text/x-python",
   "name": "python",
   "nbconvert_exporter": "python",
   "pygments_lexer": "ipython3",
   "version": "3.7.4"
  }
 },
 "nbformat": 4,
 "nbformat_minor": 4
}
