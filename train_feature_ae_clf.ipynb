{
 "cells": [
  {
   "cell_type": "code",
   "execution_count": 1,
   "metadata": {},
   "outputs": [],
   "source": [
    "import torch\n",
    "import torch.nn as nn\n",
    "import torch.optim as optim\n",
    "\n",
    "import numpy as np\n",
    "import matplotlib.pyplot as plt\n",
    "\n",
    "from ai.TrashClassifierAE import TrashClassifier\n",
    "from ai.DataLoader2 import DataLoader\n",
    "from env import *\n",
    "\n",
    "EPOCHS = 200\n",
    "ETA = 1e-2"
   ]
  },
  {
   "cell_type": "code",
   "execution_count": 2,
   "metadata": {},
   "outputs": [
    {
     "name": "stdout",
     "output_type": "stream",
     "text": [
      "FeatureAE was loaded.\n"
     ]
    }
   ],
   "source": [
    "model = TrashClassifier(fine_tune=False)\n",
    "model = model.cuda()"
   ]
  },
  {
   "cell_type": "code",
   "execution_count": 3,
   "metadata": {},
   "outputs": [
    {
     "name": "stdout",
     "output_type": "stream",
     "text": [
      "Number of data: 540\n",
      "Number of batch: 67\n",
      "Number of data: 80\n",
      "Number of batch: 10\n"
     ]
    }
   ],
   "source": [
    "train_dloader = DataLoader(TRAIN_DATA_PATH, TRASH_CAT)\n",
    "valid_dloader = DataLoader(VALID_DATA_PATH, TRASH_CAT)"
   ]
  },
  {
   "cell_type": "code",
   "execution_count": 4,
   "metadata": {},
   "outputs": [],
   "source": [
    "optimizer = optim.Adam(model.parameters(), lr=ETA)\n",
    "criterion = nn.NLLLoss()"
   ]
  },
  {
   "cell_type": "code",
   "execution_count": 5,
   "metadata": {},
   "outputs": [
    {
     "name": "stdout",
     "output_type": "stream",
     "text": [
      "Epochs: 10/200\n",
      "Train loss: 0.25646217\n",
      "Train acc: 0.91044772\n",
      "Valid loss: 1.60298763\n",
      "Valid acc: 0.73333341\n",
      "Trash Classifier was saved.\n",
      "Epochs: 20/200\n",
      "Train loss: 0.18144579\n",
      "Train acc: 0.92288542\n",
      "Valid loss: 0.50677464\n",
      "Valid acc: 0.86666667\n",
      "Trash Classifier was saved.\n",
      "Epochs: 30/200\n",
      "Train loss: 0.13762293\n",
      "Train acc: 0.95771140\n",
      "Valid loss: 1.75968016\n",
      "Valid acc: 0.71666670\n",
      "Epochs: 40/200\n",
      "Train loss: 0.11859368\n",
      "Train acc: 0.96268654\n",
      "Valid loss: 0.87479118\n",
      "Valid acc: 0.83333337\n",
      "Epochs: 50/200\n",
      "Train loss: 0.15878998\n",
      "Train acc: 0.95771128\n",
      "Valid loss: 1.01331448\n",
      "Valid acc: 0.78333336\n",
      "Epochs: 60/200\n",
      "Train loss: 0.14146035\n",
      "Train acc: 0.95522374\n",
      "Valid loss: 0.80555591\n",
      "Valid acc: 0.86666662\n",
      "Epochs: 70/200\n",
      "Train loss: 0.22536439\n",
      "Train acc: 0.93532330\n",
      "Valid loss: 1.05947494\n",
      "Valid acc: 0.75000006\n",
      "Epochs: 80/200\n",
      "Train loss: 0.11803909\n",
      "Train acc: 0.96766162\n",
      "Valid loss: 0.99078529\n",
      "Valid acc: 0.80000001\n",
      "Epochs: 90/200\n",
      "Train loss: 0.04876082\n",
      "Train acc: 0.98756218\n",
      "Valid loss: 1.44889359\n",
      "Valid acc: 0.78333336\n",
      "Epochs: 100/200\n",
      "Train loss: 0.14776354\n",
      "Train acc: 0.96019894\n",
      "Valid loss: 1.47321554\n",
      "Valid acc: 0.73333335\n",
      "Epochs: 110/200\n",
      "Train loss: 0.20947203\n",
      "Train acc: 0.93532324\n",
      "Valid loss: 0.40686055\n",
      "Valid acc: 0.88333338\n",
      "Trash Classifier was saved.\n",
      "Epochs: 120/200\n",
      "Train loss: 0.11195389\n",
      "Train acc: 0.96766162\n",
      "Valid loss: 1.08976912\n",
      "Valid acc: 0.71666670\n",
      "Epochs: 130/200\n",
      "Train loss: 0.16783148\n",
      "Train acc: 0.94527352\n",
      "Valid loss: 1.48986438\n",
      "Valid acc: 0.73333335\n",
      "Epochs: 140/200\n",
      "Train loss: 0.11445140\n",
      "Train acc: 0.97512442\n",
      "Valid loss: 1.04677925\n",
      "Valid acc: 0.83333337\n",
      "Epochs: 150/200\n",
      "Train loss: 0.09028920\n",
      "Train acc: 0.97512430\n",
      "Valid loss: 1.13631807\n",
      "Valid acc: 0.81666660\n",
      "Epochs: 160/200\n",
      "Train loss: 0.12437810\n",
      "Train acc: 0.97014928\n",
      "Valid loss: 1.16357052\n",
      "Valid acc: 0.78333336\n",
      "Epochs: 170/200\n",
      "Train loss: 0.11616453\n",
      "Train acc: 0.96268648\n",
      "Valid loss: 1.67206074\n",
      "Valid acc: 0.76666671\n",
      "Epochs: 180/200\n",
      "Train loss: 0.14985847\n",
      "Train acc: 0.97263664\n",
      "Valid loss: 1.51523711\n",
      "Valid acc: 0.73333335\n"
     ]
    },
    {
     "ename": "KeyboardInterrupt",
     "evalue": "",
     "output_type": "error",
     "traceback": [
      "\u001b[0;31m---------------------------------------------------------------------------\u001b[0m",
      "\u001b[0;31mKeyboardInterrupt\u001b[0m                         Traceback (most recent call last)",
      "\u001b[0;32m<ipython-input-5-6d42ff5e196e>\u001b[0m in \u001b[0;36m<module>\u001b[0;34m\u001b[0m\n\u001b[1;32m      8\u001b[0m     \u001b[0mvalid_acc\u001b[0m \u001b[0;34m=\u001b[0m \u001b[0;36m0.0\u001b[0m\u001b[0;34m\u001b[0m\u001b[0;34m\u001b[0m\u001b[0m\n\u001b[1;32m      9\u001b[0m \u001b[0;34m\u001b[0m\u001b[0m\n\u001b[0;32m---> 10\u001b[0;31m     \u001b[0;32mfor\u001b[0m \u001b[0mx_batch\u001b[0m\u001b[0;34m,\u001b[0m \u001b[0my_batch\u001b[0m \u001b[0;32min\u001b[0m \u001b[0mtrain_dloader\u001b[0m\u001b[0;34m.\u001b[0m\u001b[0mnext_batch\u001b[0m\u001b[0;34m(\u001b[0m\u001b[0;34m)\u001b[0m\u001b[0;34m:\u001b[0m\u001b[0;34m\u001b[0m\u001b[0;34m\u001b[0m\u001b[0m\n\u001b[0m\u001b[1;32m     11\u001b[0m         \u001b[0mx_batch\u001b[0m \u001b[0;34m=\u001b[0m \u001b[0mtorch\u001b[0m\u001b[0;34m.\u001b[0m\u001b[0mFloatTensor\u001b[0m\u001b[0;34m(\u001b[0m\u001b[0mx_batch\u001b[0m\u001b[0;34m)\u001b[0m\u001b[0;34m.\u001b[0m\u001b[0mcuda\u001b[0m\u001b[0;34m(\u001b[0m\u001b[0;34m)\u001b[0m\u001b[0;34m\u001b[0m\u001b[0;34m\u001b[0m\u001b[0m\n\u001b[1;32m     12\u001b[0m         \u001b[0my_batch\u001b[0m \u001b[0;34m=\u001b[0m \u001b[0mtorch\u001b[0m\u001b[0;34m.\u001b[0m\u001b[0mLongTensor\u001b[0m\u001b[0;34m(\u001b[0m\u001b[0my_batch\u001b[0m\u001b[0;34m)\u001b[0m\u001b[0;34m.\u001b[0m\u001b[0mcuda\u001b[0m\u001b[0;34m(\u001b[0m\u001b[0;34m)\u001b[0m\u001b[0;34m\u001b[0m\u001b[0;34m\u001b[0m\u001b[0m\n",
      "\u001b[0;32m~/projects/sw-conference/ai/DataLoader2.py\u001b[0m in \u001b[0;36mnext_batch\u001b[0;34m(self)\u001b[0m\n\u001b[1;32m     94\u001b[0m                 \u001b[0;32mfor\u001b[0m \u001b[0mimg_path1\u001b[0m\u001b[0;34m,\u001b[0m \u001b[0mimg_path2\u001b[0m \u001b[0;32min\u001b[0m \u001b[0mzip\u001b[0m\u001b[0;34m(\u001b[0m\u001b[0mlst1\u001b[0m\u001b[0;34m[\u001b[0m\u001b[0mstart\u001b[0m\u001b[0;34m:\u001b[0m\u001b[0mend\u001b[0m\u001b[0;34m]\u001b[0m\u001b[0;34m,\u001b[0m \u001b[0mlst2\u001b[0m\u001b[0;34m[\u001b[0m\u001b[0mstart\u001b[0m\u001b[0;34m:\u001b[0m\u001b[0mend\u001b[0m\u001b[0;34m]\u001b[0m\u001b[0;34m)\u001b[0m\u001b[0;34m:\u001b[0m\u001b[0;34m\u001b[0m\u001b[0;34m\u001b[0m\u001b[0m\n\u001b[1;32m     95\u001b[0m                     \u001b[0mimg1\u001b[0m \u001b[0;34m=\u001b[0m \u001b[0mself\u001b[0m\u001b[0;34m.\u001b[0m\u001b[0m_load_one_image\u001b[0m\u001b[0;34m(\u001b[0m\u001b[0mimg_path1\u001b[0m\u001b[0;34m)\u001b[0m\u001b[0;34m\u001b[0m\u001b[0;34m\u001b[0m\u001b[0m\n\u001b[0;32m---> 96\u001b[0;31m                     \u001b[0mimg2\u001b[0m \u001b[0;34m=\u001b[0m \u001b[0mself\u001b[0m\u001b[0;34m.\u001b[0m\u001b[0m_load_one_image\u001b[0m\u001b[0;34m(\u001b[0m\u001b[0mimg_path2\u001b[0m\u001b[0;34m)\u001b[0m\u001b[0;34m\u001b[0m\u001b[0;34m\u001b[0m\u001b[0m\n\u001b[0m\u001b[1;32m     97\u001b[0m \u001b[0;34m\u001b[0m\u001b[0m\n\u001b[1;32m     98\u001b[0m                     \u001b[0;32mif\u001b[0m \u001b[0mnp\u001b[0m\u001b[0;34m.\u001b[0m\u001b[0mrandom\u001b[0m\u001b[0;34m.\u001b[0m\u001b[0mrand\u001b[0m\u001b[0;34m(\u001b[0m\u001b[0;34m)\u001b[0m \u001b[0;34m>\u001b[0m \u001b[0;36m0.5\u001b[0m\u001b[0;34m:\u001b[0m\u001b[0;34m\u001b[0m\u001b[0;34m\u001b[0m\u001b[0m\n",
      "\u001b[0;32m~/projects/sw-conference/ai/DataLoader2.py\u001b[0m in \u001b[0;36m_load_one_image\u001b[0;34m(self, path)\u001b[0m\n\u001b[1;32m    190\u001b[0m         \u001b[0;32mif\u001b[0m \u001b[0mself\u001b[0m\u001b[0;34m.\u001b[0m\u001b[0mnoise\u001b[0m \u001b[0;32mis\u001b[0m \u001b[0;32mTrue\u001b[0m\u001b[0;34m:\u001b[0m\u001b[0;34m\u001b[0m\u001b[0;34m\u001b[0m\u001b[0m\n\u001b[1;32m    191\u001b[0m             \u001b[0;32mif\u001b[0m \u001b[0mnp\u001b[0m\u001b[0;34m.\u001b[0m\u001b[0mrandom\u001b[0m\u001b[0;34m.\u001b[0m\u001b[0mrand\u001b[0m\u001b[0;34m(\u001b[0m\u001b[0;34m)\u001b[0m \u001b[0;34m<\u001b[0m \u001b[0;36m0.6\u001b[0m\u001b[0;34m:\u001b[0m\u001b[0;34m\u001b[0m\u001b[0;34m\u001b[0m\u001b[0m\n\u001b[0;32m--> 192\u001b[0;31m                 \u001b[0mnoise\u001b[0m \u001b[0;34m=\u001b[0m \u001b[0mnp\u001b[0m\u001b[0;34m.\u001b[0m\u001b[0mrandom\u001b[0m\u001b[0;34m.\u001b[0m\u001b[0mrandn\u001b[0m\u001b[0;34m(\u001b[0m\u001b[0;34m*\u001b[0m\u001b[0mimage\u001b[0m\u001b[0;34m.\u001b[0m\u001b[0mshape\u001b[0m\u001b[0;34m)\u001b[0m \u001b[0;34m*\u001b[0m \u001b[0;36m10\u001b[0m\u001b[0;34m\u001b[0m\u001b[0;34m\u001b[0m\u001b[0m\n\u001b[0m\u001b[1;32m    193\u001b[0m                 \u001b[0mimage\u001b[0m \u001b[0;34m=\u001b[0m \u001b[0mimage\u001b[0m \u001b[0;34m+\u001b[0m \u001b[0mnoise\u001b[0m\u001b[0;34m\u001b[0m\u001b[0;34m\u001b[0m\u001b[0m\n\u001b[1;32m    194\u001b[0m \u001b[0;34m\u001b[0m\u001b[0m\n",
      "\u001b[0;31mKeyboardInterrupt\u001b[0m: "
     ]
    }
   ],
   "source": [
    "\n",
    "top_valid_acc = 0.0\n",
    "\n",
    "for e in range(EPOCHS):\n",
    "    \n",
    "    train_loss = 0.0\n",
    "    train_acc = 0.0\n",
    "    valid_loss = 0.0\n",
    "    valid_acc = 0.0\n",
    "    \n",
    "    for x_batch, y_batch in train_dloader.next_batch():\n",
    "        x_batch = torch.FloatTensor(x_batch).cuda()\n",
    "        y_batch = torch.LongTensor(y_batch).cuda()\n",
    "        \n",
    "        logps = model(x_batch)\n",
    "        loss = criterion(logps, y_batch)\n",
    "        \n",
    "        with torch.no_grad():\n",
    "            train_loss += loss.item()\n",
    "            ps = torch.exp(logps)\n",
    "            \n",
    "            ps_k, cls_k = ps.topk(1, dim=1)\n",
    "            equal = cls_k == y_batch.view(*cls_k.size())\n",
    "            train_acc += torch.mean(equal.type(torch.FloatTensor))\n",
    "        \n",
    "        optimizer.zero_grad()\n",
    "        loss.backward()\n",
    "        optimizer.step()\n",
    "    \n",
    "    if (e+1) % 10 == 0:\n",
    "        with torch.no_grad():\n",
    "            model.eval()\n",
    "\n",
    "            for x_batch, y_batch in valid_dloader.next_batch():\n",
    "                x_batch = torch.FloatTensor(x_batch).cuda()\n",
    "                y_batch = torch.LongTensor(y_batch).cuda()\n",
    "\n",
    "                logps = model(x_batch)\n",
    "                loss = criterion(logps, y_batch)\n",
    "\n",
    "                valid_loss += loss.item()\n",
    "\n",
    "                ps = torch.exp(logps)\n",
    "                ps_k, cls_k = ps.topk(1, dim=1)\n",
    "                equal = cls_k == y_batch.view(*cls_k.size())\n",
    "                valid_acc += torch.mean(equal.type(torch.FloatTensor))\n",
    "\n",
    "            train_loss /= len(train_dloader)\n",
    "            train_acc /= len(train_dloader)\n",
    "            valid_loss /= len(valid_dloader)\n",
    "            valid_acc /= len(valid_dloader)\n",
    "\n",
    "            print(f\"Epochs: {e+1}/{EPOCHS}\")\n",
    "            print(f\"Train loss: {train_loss:.8f}\")\n",
    "            print(f\"Train acc: {train_acc:.8f}\")\n",
    "            print(f\"Valid loss: {valid_loss:.8f}\")\n",
    "            print(f\"Valid acc: {valid_acc:.8f}\")\n",
    "            \n",
    "            if valid_acc > top_valid_acc:\n",
    "                model.save(CLF_CKPT_PATH)\n",
    "                top_valid_acc = valid_acc\n",
    "\n",
    "            model.train()"
   ]
  },
  {
   "cell_type": "code",
   "execution_count": null,
   "metadata": {},
   "outputs": [],
   "source": []
  },
  {
   "cell_type": "code",
   "execution_count": null,
   "metadata": {},
   "outputs": [],
   "source": [
    "1+2"
   ]
  }
 ],
 "metadata": {
  "kernelspec": {
   "display_name": "Python 3",
   "language": "python",
   "name": "python3"
  },
  "language_info": {
   "codemirror_mode": {
    "name": "ipython",
    "version": 3
   },
   "file_extension": ".py",
   "mimetype": "text/x-python",
   "name": "python",
   "nbconvert_exporter": "python",
   "pygments_lexer": "ipython3",
   "version": "3.7.4"
  }
 },
 "nbformat": 4,
 "nbformat_minor": 4
}
