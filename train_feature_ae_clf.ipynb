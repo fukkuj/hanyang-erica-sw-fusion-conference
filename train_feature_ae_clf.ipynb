{
 "cells": [
  {
   "cell_type": "code",
   "execution_count": 6,
   "metadata": {},
   "outputs": [],
   "source": [
    "import torch\n",
    "import torch.nn as nn\n",
    "import torch.optim as optim\n",
    "\n",
    "import numpy as np\n",
    "import matplotlib.pyplot as plt\n",
    "\n",
    "from ai.TrashClassifierAE import TrashClassifier\n",
    "from ai.DataLoader2 import DataLoader\n",
    "from env import *\n",
    "\n",
    "EPOCHS = 100\n",
    "ETA = 1e-3"
   ]
  },
  {
   "cell_type": "code",
   "execution_count": 7,
   "metadata": {},
   "outputs": [
    {
     "name": "stdout",
     "output_type": "stream",
     "text": [
      "FeatureAE was loaded.\n"
     ]
    }
   ],
   "source": [
    "model = TrashClassifier(fine_tune=False)\n",
    "model = model.cuda()"
   ]
  },
  {
   "cell_type": "code",
   "execution_count": 8,
   "metadata": {},
   "outputs": [
    {
     "name": "stdout",
     "output_type": "stream",
     "text": [
      "Number of data batch: 324\n",
      "Number of batch: 5\n"
     ]
    }
   ],
   "source": [
    "train_dloader = DataLoader(TRASH_TRAIN_DATA_PATH, TRASH_CAT)\n",
    "valid_dloader = DataLoader(TRASH_VALID_DATA_PATH, TRASH_CAT)"
   ]
  },
  {
   "cell_type": "code",
   "execution_count": 9,
   "metadata": {},
   "outputs": [],
   "source": [
    "optimizer = optim.Adam(model.parameters(), lr=ETA)\n",
    "criterion = nn.NLLLoss()"
   ]
  },
  {
   "cell_type": "code",
   "execution_count": 11,
   "metadata": {},
   "outputs": [
    {
     "name": "stdout",
     "output_type": "stream",
     "text": [
      "Epochs: 10/100\n",
      "Train loss: 0.22118256\n",
      "Train acc: 0.94375002\n",
      "Epochs: 20/100\n",
      "Train loss: 0.11333561\n",
      "Train acc: 0.98124999\n",
      "Epochs: 30/100\n",
      "Train loss: 0.10609844\n",
      "Train acc: 0.98124999\n",
      "Epochs: 40/100\n",
      "Train loss: 0.07796553\n",
      "Train acc: 0.98750001\n",
      "Epochs: 50/100\n",
      "Train loss: 0.10940139\n",
      "Train acc: 0.96875000\n",
      "Epochs: 60/100\n",
      "Train loss: 0.10768088\n",
      "Train acc: 0.96875000\n",
      "Epochs: 70/100\n",
      "Train loss: 0.03618611\n",
      "Train acc: 0.98750001\n",
      "Epochs: 80/100\n",
      "Train loss: 0.08418716\n",
      "Train acc: 0.97500002\n",
      "Epochs: 90/100\n",
      "Train loss: 0.03383254\n",
      "Train acc: 0.99374998\n",
      "Epochs: 100/100\n",
      "Train loss: 0.05401335\n",
      "Train acc: 0.98750001\n"
     ]
    }
   ],
   "source": [
    "for e in range(EPOCHS):\n",
    "    \n",
    "    train_loss = 0.0\n",
    "    train_acc = 0.0\n",
    "    valid_loss = 0.0\n",
    "    valid_acc = 0.0\n",
    "    \n",
    "    for x_batch, y_batch in train_dloader.next_batch():\n",
    "        x_batch = torch.FloatTensor(x_batch).cuda()\n",
    "        y_batch = torch.LongTensor(y_batch).cuda()\n",
    "        \n",
    "        logps = model(x_batch)\n",
    "        loss = criterion(logps, y_batch)\n",
    "        \n",
    "        with torch.no_grad():\n",
    "            train_loss += loss.item()\n",
    "            ps = torch.exp(logps)\n",
    "            \n",
    "            ps_k, cls_k = ps.topk(1, dim=1)\n",
    "            equal = cls_k == y_batch.view(*cls_k.size())\n",
    "            train_acc += torch.mean(equal.type(torch.FloatTensor))\n",
    "        \n",
    "        optimizer.zero_grad()\n",
    "        loss.backward()\n",
    "        optimizer.step()\n",
    "    \n",
    "    if (e+1) % 10 == 0:\n",
    "        with torch.no_grad():\n",
    "            model.eval()\n",
    "\n",
    "            for x_batch, y_batch in valid_dloader.next_batch():\n",
    "                x_batch = torch.FloatTensor(x_batch).cuda()\n",
    "                y_batch = torch.LongTensor(y_batch).cuda()\n",
    "\n",
    "                logps = model(x_batch)\n",
    "                loss = criterion(logps, y_batch)\n",
    "\n",
    "                valid_loss += loss.item()\n",
    "\n",
    "                ps = torch.exp(logps)\n",
    "                ps_k, cls_k = ps.topk(1, dim=1)\n",
    "                equal = cls_k == y_batch.view(*cls_k.size())\n",
    "                valid_acc += torch.mean(equal.type(torch.FloatTensor))\n",
    "\n",
    "            train_loss /= len(train_dloader)\n",
    "            train_acc /= len(train_dloader)\n",
    "            valid_loss /= len(valid_dloader)\n",
    "            valid_acc /= len(valid_dloader)\n",
    "\n",
    "            print(f\"Epochs: {e+1}/{EPOCHS}\")\n",
    "            print(f\"Train loss: {train_loss:.8f}\")\n",
    "            print(f\"Train acc: {train_acc:.8f}\")\n",
    "            print(f\"Valid loss: {valid_loss:.8f}\")\n",
    "            print(f\"Valid acc: {valid_acc:.8f}\")\n",
    "\n",
    "            model.train()"
   ]
  },
  {
   "cell_type": "code",
   "execution_count": 12,
   "metadata": {},
   "outputs": [
    {
     "name": "stdout",
     "output_type": "stream",
     "text": [
      "Trash Classifier was saved.\n"
     ]
    }
   ],
   "source": [
    "model.save(CLF_CKPT_PATH)"
   ]
  },
  {
   "cell_type": "code",
   "execution_count": null,
   "metadata": {},
   "outputs": [],
   "source": []
  }
 ],
 "metadata": {
  "kernelspec": {
   "display_name": "Python 3",
   "language": "python",
   "name": "python3"
  },
  "language_info": {
   "codemirror_mode": {
    "name": "ipython",
    "version": 3
   },
   "file_extension": ".py",
   "mimetype": "text/x-python",
   "name": "python",
   "nbconvert_exporter": "python",
   "pygments_lexer": "ipython3",
   "version": "3.7.3"
  }
 },
 "nbformat": 4,
 "nbformat_minor": 4
}
