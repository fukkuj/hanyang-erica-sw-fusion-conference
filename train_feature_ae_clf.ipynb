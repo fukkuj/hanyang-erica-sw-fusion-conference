{
 "cells": [
  {
   "cell_type": "code",
   "execution_count": 1,
   "metadata": {},
   "outputs": [],
   "source": [
    "import torch\n",
    "import torch.nn as nn\n",
    "import torch.optim as optim\n",
    "\n",
    "import numpy as np\n",
    "import matplotlib.pyplot as plt\n",
    "\n",
    "from ai.TrashClassifierAE import TrashClassifier\n",
    "from ai.DataLoader2 import DataLoader\n",
    "from env import *\n",
    "\n",
    "EPOCHS = 200\n",
    "ETA = 1e-2"
   ]
  },
  {
   "cell_type": "code",
   "execution_count": 2,
   "metadata": {},
   "outputs": [
    {
     "name": "stdout",
     "output_type": "stream",
     "text": [
      "FeatureAE was loaded.\n"
     ]
    }
   ],
   "source": [
    "model = TrashClassifier(fine_tune=False)\n",
    "model = model.cuda()"
   ]
  },
  {
   "cell_type": "code",
   "execution_count": 3,
   "metadata": {},
   "outputs": [
    {
     "name": "stdout",
     "output_type": "stream",
     "text": [
      "Number of data: 1241\n",
      "Number of batch: 155\n",
      "Number of data: 112\n",
      "Number of batch: 14\n"
     ]
    }
   ],
   "source": [
    "train_dloader = DataLoader(TRAIN_DATA_PATH, TRASH_CAT)\n",
    "valid_dloader = DataLoader(VALID_DATA_PATH, TRASH_CAT)"
   ]
  },
  {
   "cell_type": "code",
   "execution_count": 4,
   "metadata": {},
   "outputs": [],
   "source": [
    "optimizer = optim.Adam(model.parameters(), lr=ETA)\n",
    "criterion = nn.NLLLoss()"
   ]
  },
  {
   "cell_type": "code",
   "execution_count": 5,
   "metadata": {},
   "outputs": [
    {
     "name": "stdout",
     "output_type": "stream",
     "text": [
      "Epochs: 10/200\n",
      "Train loss: 0.22257056\n",
      "Train acc: 0.92473114\n",
      "Valid loss: 0.86017824\n",
      "Valid acc: 0.83333337\n",
      "Trash Classifier was saved.\n",
      "Epochs: 20/200\n",
      "Train loss: 0.23602918\n",
      "Train acc: 0.93010753\n",
      "Valid loss: 0.80343890\n",
      "Valid acc: 0.85714287\n",
      "Trash Classifier was saved.\n",
      "Epochs: 30/200\n",
      "Train loss: 0.14619873\n",
      "Train acc: 0.96451622\n",
      "Valid loss: 0.70020685\n",
      "Valid acc: 0.83333337\n",
      "Epochs: 40/200\n",
      "Train loss: 0.13105793\n",
      "Train acc: 0.96344084\n",
      "Valid loss: 1.42274215\n",
      "Valid acc: 0.73809516\n",
      "Epochs: 50/200\n",
      "Train loss: 0.11169962\n",
      "Train acc: 0.97096783\n",
      "Valid loss: 0.55580070\n",
      "Valid acc: 0.88095242\n",
      "Trash Classifier was saved.\n",
      "Epochs: 60/200\n",
      "Train loss: 0.10642085\n",
      "Train acc: 0.97526896\n",
      "Valid loss: 0.33582355\n",
      "Valid acc: 0.91666669\n",
      "Trash Classifier was saved.\n",
      "Epochs: 70/200\n",
      "Train loss: 0.09485366\n",
      "Train acc: 0.97526884\n",
      "Valid loss: 0.84806870\n",
      "Valid acc: 0.88095242\n",
      "Epochs: 80/200\n",
      "Train loss: 0.12986720\n",
      "Train acc: 0.97096795\n",
      "Valid loss: 0.66600785\n",
      "Valid acc: 0.85714281\n",
      "Epochs: 90/200\n",
      "Train loss: 0.12259644\n",
      "Train acc: 0.96129030\n",
      "Valid loss: 0.71372602\n",
      "Valid acc: 0.85714287\n",
      "Epochs: 100/200\n",
      "Train loss: 0.09387641\n",
      "Train acc: 0.97956985\n",
      "Valid loss: 0.30753105\n",
      "Valid acc: 0.91666663\n",
      "Epochs: 110/200\n",
      "Train loss: 0.14982552\n",
      "Train acc: 0.96451592\n",
      "Valid loss: 0.31572648\n",
      "Valid acc: 0.90476191\n",
      "Epochs: 120/200\n",
      "Train loss: 0.08044103\n",
      "Train acc: 0.98064518\n",
      "Valid loss: 1.14810446\n",
      "Valid acc: 0.85714287\n",
      "Epochs: 130/200\n",
      "Train loss: 0.04945514\n",
      "Train acc: 0.98279577\n",
      "Valid loss: 0.58660679\n",
      "Valid acc: 0.89285713\n",
      "Epochs: 140/200\n",
      "Train loss: 0.06995786\n",
      "Train acc: 0.98602140\n",
      "Valid loss: 0.88250593\n",
      "Valid acc: 0.85714281\n",
      "Epochs: 150/200\n",
      "Train loss: 0.06591684\n",
      "Train acc: 0.98602158\n",
      "Valid loss: 0.61942611\n",
      "Valid acc: 0.86904764\n",
      "Epochs: 160/200\n",
      "Train loss: 0.03367127\n",
      "Train acc: 0.99247307\n",
      "Valid loss: 0.86970256\n",
      "Valid acc: 0.84523815\n",
      "Epochs: 170/200\n",
      "Train loss: 0.06409734\n",
      "Train acc: 0.97741944\n",
      "Valid loss: 1.23063789\n",
      "Valid acc: 0.83333331\n",
      "Epochs: 180/200\n",
      "Train loss: 0.03891519\n",
      "Train acc: 0.98494619\n",
      "Valid loss: 1.10221066\n",
      "Valid acc: 0.85714287\n",
      "Epochs: 190/200\n",
      "Train loss: 0.05962602\n",
      "Train acc: 0.98817205\n",
      "Valid loss: 0.51516669\n",
      "Valid acc: 0.92857140\n",
      "Trash Classifier was saved.\n",
      "Epochs: 200/200\n",
      "Train loss: 0.09198794\n",
      "Train acc: 0.97741944\n",
      "Valid loss: 0.31773606\n",
      "Valid acc: 0.94047624\n",
      "Trash Classifier was saved.\n"
     ]
    }
   ],
   "source": [
    "\n",
    "top_valid_acc = 0.0\n",
    "\n",
    "for e in range(EPOCHS):\n",
    "    \n",
    "    train_loss = 0.0\n",
    "    train_acc = 0.0\n",
    "    valid_loss = 0.0\n",
    "    valid_acc = 0.0\n",
    "    \n",
    "    for x_batch, y_batch in train_dloader.next_batch():\n",
    "        x_batch = torch.FloatTensor(x_batch).cuda()\n",
    "        y_batch = torch.LongTensor(y_batch).cuda()\n",
    "        \n",
    "        logps = model(x_batch)\n",
    "        loss = criterion(logps, y_batch)\n",
    "        \n",
    "        with torch.no_grad():\n",
    "            train_loss += loss.item()\n",
    "            ps = torch.exp(logps)\n",
    "            \n",
    "            ps_k, cls_k = ps.topk(1, dim=1)\n",
    "            equal = cls_k == y_batch.view(*cls_k.size())\n",
    "            train_acc += torch.mean(equal.type(torch.FloatTensor))\n",
    "        \n",
    "        optimizer.zero_grad()\n",
    "        loss.backward()\n",
    "        optimizer.step()\n",
    "    \n",
    "    if (e+1) % 10 == 0:\n",
    "        with torch.no_grad():\n",
    "            model.eval()\n",
    "\n",
    "            for x_batch, y_batch in valid_dloader.next_batch():\n",
    "                x_batch = torch.FloatTensor(x_batch).cuda()\n",
    "                y_batch = torch.LongTensor(y_batch).cuda()\n",
    "\n",
    "                logps = model(x_batch)\n",
    "                loss = criterion(logps, y_batch)\n",
    "\n",
    "                valid_loss += loss.item()\n",
    "\n",
    "                ps = torch.exp(logps)\n",
    "                ps_k, cls_k = ps.topk(1, dim=1)\n",
    "                equal = cls_k == y_batch.view(*cls_k.size())\n",
    "                valid_acc += torch.mean(equal.type(torch.FloatTensor))\n",
    "\n",
    "            train_loss /= len(train_dloader)\n",
    "            train_acc /= len(train_dloader)\n",
    "            valid_loss /= len(valid_dloader)\n",
    "            valid_acc /= len(valid_dloader)\n",
    "\n",
    "            print(f\"Epochs: {e+1}/{EPOCHS}\")\n",
    "            print(f\"Train loss: {train_loss:.8f}\")\n",
    "            print(f\"Train acc: {train_acc:.8f}\")\n",
    "            print(f\"Valid loss: {valid_loss:.8f}\")\n",
    "            print(f\"Valid acc: {valid_acc:.8f}\")\n",
    "            \n",
    "            if valid_acc > top_valid_acc:\n",
    "                model.save(CLF_CKPT_PATH)\n",
    "                top_valid_acc = valid_acc\n",
    "\n",
    "            model.train()"
   ]
  },
  {
   "cell_type": "code",
   "execution_count": null,
   "metadata": {},
   "outputs": [],
   "source": []
  },
  {
   "cell_type": "code",
   "execution_count": 6,
   "metadata": {},
   "outputs": [
    {
     "data": {
      "text/plain": [
       "3"
      ]
     },
     "execution_count": 6,
     "metadata": {},
     "output_type": "execute_result"
    }
   ],
   "source": [
    "1+2"
   ]
  },
  {
   "cell_type": "code",
   "execution_count": null,
   "metadata": {},
   "outputs": [],
   "source": []
  }
 ],
 "metadata": {
  "kernelspec": {
   "display_name": "Python 3",
   "language": "python",
   "name": "python3"
  },
  "language_info": {
   "codemirror_mode": {
    "name": "ipython",
    "version": 3
   },
   "file_extension": ".py",
   "mimetype": "text/x-python",
   "name": "python",
   "nbconvert_exporter": "python",
   "pygments_lexer": "ipython3",
   "version": "3.7.4"
  }
 },
 "nbformat": 4,
 "nbformat_minor": 4
}
