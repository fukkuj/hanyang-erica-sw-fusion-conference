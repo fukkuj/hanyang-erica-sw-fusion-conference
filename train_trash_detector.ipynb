{
 "cells": [
  {
   "cell_type": "code",
   "execution_count": 7,
   "metadata": {},
   "outputs": [],
   "source": [
    "from ai.TrashDetector import TrashDetector\n",
    "from ai.DataLoader import DetectorDataLoader\n",
    "from env import *\n",
    "\n",
    "import torch\n",
    "import torch.nn as nn\n",
    "import torch.optim as optim\n",
    "import numpy as np"
   ]
  },
  {
   "cell_type": "code",
   "execution_count": 6,
   "metadata": {},
   "outputs": [],
   "source": [
    "ETA = 1e-3\n",
    "EPOCHS = 50"
   ]
  },
  {
   "cell_type": "code",
   "execution_count": 8,
   "metadata": {},
   "outputs": [
    {
     "name": "stdout",
     "output_type": "stream",
     "text": [
      "Number of data batch: 283\n",
      "Number of batch: 18\n"
     ]
    }
   ],
   "source": [
    "dloader = DetectorDataLoader(DETECTOR_TRAIN_DATA_PATH, DETECTOR_CAT, noise=True)"
   ]
  },
  {
   "cell_type": "code",
   "execution_count": 3,
   "metadata": {},
   "outputs": [],
   "source": [
    "detector = TrashDetector().cuda()"
   ]
  },
  {
   "cell_type": "code",
   "execution_count": 5,
   "metadata": {},
   "outputs": [],
   "source": [
    "criterion = nn.NLLLoss()\n",
    "optimizer = optim.Adam(detector.parameters(), lr=ETA)"
   ]
  },
  {
   "cell_type": "code",
   "execution_count": null,
   "metadata": {},
   "outputs": [],
   "source": [
    "for e in range(EPOCHS):\n",
    "    \n",
    "    train_loss = 0.0\n",
    "    train_acc = 0.0\n",
    "    \n",
    "    detector.train()\n",
    "    \n",
    "    for x_batch, y_batch in dloader.next_batch():\n",
    "        x = torch.FloatTensor(x_batch).cuda()\n",
    "        y = torch.LongTensor(y_batch).cuda()\n",
    "        \n",
    "        logps = detector(x)\n",
    "        loss = criterion(logps, y)\n",
    "        train_loss += loss.item()\n",
    "        \n",
    "        with torch.no_grad():\n",
    "            ps = torch.exp(logps)\n",
    "            ps_k, top_k = ps.topk(1, dim=1)\n",
    "            train_acc += torch.mean((top_k == y.view(*top_k.size())).type(torch.FloatTensor))\n",
    "        \n",
    "        optimizer.zero_grad()\n",
    "        loss.backward()\n",
    "        optimizer.step()\n",
    "        \n",
    "    detector.eval()\n",
    "    \n",
    "    train_loss /= len(dloader)\n",
    "    train_acc /= len(dloader)\n",
    "    \n",
    "    print(f\"Epochs {e+1}/{EPOCHS}\")\n",
    "    print(f\"Train loss: {train_loss:.8f}\")\n",
    "    print(f\"Train acc: {train_acc:.4f}\")\n",
    "    \n",
    "detector.save(DET_CKPT_PATH)\n",
    "    "
   ]
  }
 ],
 "metadata": {
  "kernelspec": {
   "display_name": "Python 3",
   "language": "python",
   "name": "python3"
  },
  "language_info": {
   "codemirror_mode": {
    "name": "ipython",
    "version": 3
   },
   "file_extension": ".py",
   "mimetype": "text/x-python",
   "name": "python",
   "nbconvert_exporter": "python",
   "pygments_lexer": "ipython3",
   "version": "3.7.4"
  }
 },
 "nbformat": 4,
 "nbformat_minor": 4
}
