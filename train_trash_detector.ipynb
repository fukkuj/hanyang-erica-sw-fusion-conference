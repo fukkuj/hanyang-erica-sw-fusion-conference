{
 "cells": [
  {
   "cell_type": "code",
   "execution_count": 1,
   "metadata": {},
   "outputs": [],
   "source": [
    "from ai.TrashDetector import TrashDetector\n",
    "from ai.DataLoader import DetectorDataLoader\n",
    "from env import *\n",
    "\n",
    "import torch\n",
    "import torch.nn as nn\n",
    "import torch.optim as optim\n",
    "import numpy as np"
   ]
  },
  {
   "cell_type": "code",
   "execution_count": 2,
   "metadata": {},
   "outputs": [],
   "source": [
    "ETA = 1e-3\n",
    "EPOCHS = 30"
   ]
  },
  {
   "cell_type": "code",
   "execution_count": 3,
   "metadata": {},
   "outputs": [
    {
     "name": "stdout",
     "output_type": "stream",
     "text": [
      "Number of data batch: 283\n",
      "Number of batch: 18\n"
     ]
    }
   ],
   "source": [
    "dloader = DetectorDataLoader(DETECTOR_TRAIN_DATA_PATH, DETECTOR_CAT, noise=True)"
   ]
  },
  {
   "cell_type": "code",
   "execution_count": 4,
   "metadata": {},
   "outputs": [],
   "source": [
    "detector = TrashDetector().cuda()"
   ]
  },
  {
   "cell_type": "code",
   "execution_count": 5,
   "metadata": {},
   "outputs": [],
   "source": [
    "criterion = nn.NLLLoss()\n",
    "optimizer = optim.Adam(detector.parameters(), lr=ETA)"
   ]
  },
  {
   "cell_type": "code",
   "execution_count": 6,
   "metadata": {},
   "outputs": [
    {
     "name": "stdout",
     "output_type": "stream",
     "text": [
      "Epochs 1/30\n",
      "Train loss: 0.54114391\n",
      "Train acc: 0.7210\n",
      "Epochs 2/30\n",
      "Train loss: 0.41526393\n",
      "Train acc: 0.8256\n",
      "Epochs 3/30\n",
      "Train loss: 0.33939408\n",
      "Train acc: 0.8518\n",
      "Epochs 4/30\n",
      "Train loss: 0.30752641\n",
      "Train acc: 0.8614\n",
      "Epochs 5/30\n",
      "Train loss: 0.33504611\n",
      "Train acc: 0.8657\n",
      "Epochs 6/30\n",
      "Train loss: 0.34057688\n",
      "Train acc: 0.8674\n",
      "Epochs 7/30\n",
      "Train loss: 0.26419602\n",
      "Train acc: 0.8908\n",
      "Epochs 8/30\n",
      "Train loss: 0.31418739\n",
      "Train acc: 0.8561\n",
      "Epochs 9/30\n",
      "Train loss: 0.32064394\n",
      "Train acc: 0.8665\n",
      "Epochs 10/30\n",
      "Train loss: 0.27785993\n",
      "Train acc: 0.8865\n",
      "Epochs 11/30\n",
      "Train loss: 0.24847573\n",
      "Train acc: 0.9037\n",
      "Epochs 12/30\n",
      "Train loss: 0.22738973\n",
      "Train acc: 0.8977\n",
      "Epochs 13/30\n",
      "Train loss: 0.28647971\n",
      "Train acc: 0.8753\n",
      "Epochs 14/30\n",
      "Train loss: 0.25646698\n",
      "Train acc: 0.8950\n",
      "Epochs 15/30\n",
      "Train loss: 0.24161275\n",
      "Train acc: 0.8960\n",
      "Epochs 16/30\n",
      "Train loss: 0.22137201\n",
      "Train acc: 0.9193\n",
      "Epochs 17/30\n",
      "Train loss: 0.22232837\n",
      "Train acc: 0.9012\n",
      "Epochs 18/30\n",
      "Train loss: 0.22780357\n",
      "Train acc: 0.9074\n",
      "Epochs 19/30\n",
      "Train loss: 0.22164814\n",
      "Train acc: 0.9107\n",
      "Epochs 20/30\n",
      "Train loss: 0.21312737\n",
      "Train acc: 0.9064\n",
      "Epochs 21/30\n",
      "Train loss: 0.17588019\n",
      "Train acc: 0.9384\n",
      "Epochs 22/30\n",
      "Train loss: 0.17296487\n",
      "Train acc: 0.9205\n",
      "Epochs 23/30\n",
      "Train loss: 0.21733181\n",
      "Train acc: 0.9178\n",
      "Epochs 24/30\n",
      "Train loss: 0.24518726\n",
      "Train acc: 0.8952\n",
      "Epochs 25/30\n",
      "Train loss: 0.19640085\n",
      "Train acc: 0.9178\n",
      "Epochs 26/30\n",
      "Train loss: 0.18632233\n",
      "Train acc: 0.9272\n",
      "Epochs 27/30\n",
      "Train loss: 0.19561890\n",
      "Train acc: 0.9247\n",
      "Epochs 28/30\n",
      "Train loss: 0.17429873\n",
      "Train acc: 0.9323\n",
      "Epochs 29/30\n",
      "Train loss: 0.17188359\n",
      "Train acc: 0.9375\n",
      "Epochs 30/30\n",
      "Train loss: 0.16872411\n",
      "Train acc: 0.9377\n"
     ]
    }
   ],
   "source": [
    "for e in range(EPOCHS):\n",
    "    \n",
    "    train_loss = 0.0\n",
    "    train_acc = 0.0\n",
    "    \n",
    "    detector.train()\n",
    "    \n",
    "    for x_batch, y_batch in dloader.next_batch():\n",
    "        x = torch.FloatTensor(x_batch).cuda()\n",
    "        y = torch.LongTensor(y_batch).cuda()\n",
    "        \n",
    "        logps = detector(x)\n",
    "        loss = criterion(logps, y)\n",
    "        train_loss += loss.item()\n",
    "        \n",
    "        with torch.no_grad():\n",
    "            ps = torch.exp(logps)\n",
    "            ps_k, top_k = ps.topk(1, dim=1)\n",
    "            train_acc += torch.mean((top_k == y.view(*top_k.size())).type(torch.FloatTensor))\n",
    "        \n",
    "        optimizer.zero_grad()\n",
    "        loss.backward()\n",
    "        optimizer.step()\n",
    "        \n",
    "    detector.eval()\n",
    "    \n",
    "    train_loss /= len(dloader)\n",
    "    train_acc /= len(dloader)\n",
    "    \n",
    "    print(f\"Epochs {e+1}/{EPOCHS}\")\n",
    "    print(f\"Train loss: {train_loss:.8f}\")\n",
    "    print(f\"Train acc: {train_acc:.4f}\")\n",
    "    \n",
    "detector.save(DET_CKPT_PATH)\n",
    "    "
   ]
  },
  {
   "cell_type": "code",
   "execution_count": null,
   "metadata": {},
   "outputs": [],
   "source": []
  }
 ],
 "metadata": {
  "kernelspec": {
   "display_name": "Python 3",
   "language": "python",
   "name": "python3"
  },
  "language_info": {
   "codemirror_mode": {
    "name": "ipython",
    "version": 3
   },
   "file_extension": ".py",
   "mimetype": "text/x-python",
   "name": "python",
   "nbconvert_exporter": "python",
   "pygments_lexer": "ipython3",
   "version": "3.7.4"
  }
 },
 "nbformat": 4,
 "nbformat_minor": 4
}
