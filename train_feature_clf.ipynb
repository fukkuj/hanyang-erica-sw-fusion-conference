{
 "cells": [
  {
   "cell_type": "code",
   "execution_count": 1,
   "metadata": {},
   "outputs": [],
   "source": [
    "import torch\n",
    "import torch.nn as nn\n",
    "import torch.optim as optim\n",
    "\n",
    "import numpy as np\n",
    "import matplotlib.pyplot as plt\n",
    "\n",
    "from ai.TrashClassifier import TrashClassifier\n",
    "from ai.DataLoader2 import DataLoader\n",
    "from env import *\n",
    "\n",
    "EPOCHS = 100\n",
    "ETA = 1e-2"
   ]
  },
  {
   "cell_type": "code",
   "execution_count": 2,
   "metadata": {},
   "outputs": [
    {
     "name": "stdout",
     "output_type": "stream",
     "text": [
      "FeatureCNN was loaded.\n"
     ]
    }
   ],
   "source": [
    "model = TrashClassifier()\n",
    "model = model.cuda()"
   ]
  },
  {
   "cell_type": "code",
   "execution_count": 3,
   "metadata": {},
   "outputs": [
    {
     "name": "stdout",
     "output_type": "stream",
     "text": [
      "Number of data: 1241\n",
      "Number of batch: 22\n",
      "Number of data: 112\n",
      "Number of batch: 2\n"
     ]
    }
   ],
   "source": [
    "train_dloader = DataLoader(TRAIN_DATA_PATH, TRASH_CAT)\n",
    "valid_dloader = DataLoader(VALID_DATA_PATH, TRASH_CAT)"
   ]
  },
  {
   "cell_type": "code",
   "execution_count": 4,
   "metadata": {},
   "outputs": [],
   "source": [
    "optimizer = optim.Adam(model.parameters(), lr=ETA)\n",
    "criterion = nn.NLLLoss()"
   ]
  },
  {
   "cell_type": "code",
   "execution_count": 5,
   "metadata": {},
   "outputs": [
    {
     "name": "stdout",
     "output_type": "stream",
     "text": [
      "Epochs: 10/100\n",
      "Train loss: 0.19910732\n",
      "Train acc: 0.93668836\n",
      "Valid loss: 0.24641160\n",
      "Valid acc: 0.91071427\n",
      "Classifier was saved.\n",
      "Epochs: 20/100\n",
      "Train loss: 0.16876042\n",
      "Train acc: 0.95941550\n",
      "Valid loss: 0.21539031\n",
      "Valid acc: 0.91071427\n",
      "Epochs: 30/100\n",
      "Train loss: 0.11502209\n",
      "Train acc: 0.96266228\n",
      "Valid loss: 0.61083136\n",
      "Valid acc: 0.89285713\n",
      "Epochs: 40/100\n",
      "Train loss: 0.09742984\n",
      "Train acc: 0.97564930\n",
      "Valid loss: 0.29605058\n",
      "Valid acc: 0.92857140\n",
      "Classifier was saved.\n",
      "Epochs: 50/100\n",
      "Train loss: 0.07933328\n",
      "Train acc: 0.98214281\n",
      "Valid loss: 0.57385683\n",
      "Valid acc: 0.87500000\n",
      "Epochs: 60/100\n",
      "Train loss: 0.14085700\n",
      "Train acc: 0.98051947\n",
      "Valid loss: 0.58715311\n",
      "Valid acc: 0.82142854\n",
      "Epochs: 70/100\n",
      "Train loss: 0.05909693\n",
      "Train acc: 0.97889614\n",
      "Valid loss: 1.10740915\n",
      "Valid acc: 0.92857146\n",
      "Classifier was saved.\n",
      "Epochs: 80/100\n",
      "Train loss: 0.10439331\n",
      "Train acc: 0.97564930\n",
      "Valid loss: 0.23776975\n",
      "Valid acc: 0.91071427\n",
      "Epochs: 90/100\n",
      "Train loss: 0.07692653\n",
      "Train acc: 0.98376620\n",
      "Valid loss: 0.11723721\n",
      "Valid acc: 0.94642854\n",
      "Classifier was saved.\n",
      "Epochs: 100/100\n",
      "Train loss: 0.02808464\n",
      "Train acc: 0.99025971\n",
      "Valid loss: 0.33667610\n",
      "Valid acc: 0.98214287\n",
      "Classifier was saved.\n"
     ]
    }
   ],
   "source": [
    "top_valid_acc = 0.0\n",
    "\n",
    "for e in range(EPOCHS):\n",
    "    \n",
    "    train_loss = 0.0\n",
    "    train_acc = 0.0\n",
    "    valid_loss = 0.0\n",
    "    valid_acc = 0.0\n",
    "    \n",
    "    for x_batch, y_batch in train_dloader.next_batch():\n",
    "        x_batch = torch.FloatTensor(x_batch).cuda()\n",
    "        y_batch = torch.LongTensor(y_batch).cuda()\n",
    "        \n",
    "        logps = model(x_batch)\n",
    "        loss = criterion(logps, y_batch)\n",
    "        \n",
    "        with torch.no_grad():\n",
    "            train_loss += loss.item()\n",
    "            ps = torch.exp(logps)\n",
    "            \n",
    "            ps_k, cls_k = ps.topk(1, dim=1)\n",
    "            equal = cls_k == y_batch.view(*cls_k.size())\n",
    "            train_acc += torch.mean(equal.type(torch.FloatTensor))\n",
    "        \n",
    "        optimizer.zero_grad()\n",
    "        loss.backward()\n",
    "        optimizer.step()\n",
    "    \n",
    "    if (e+1) % 10 == 0:\n",
    "        with torch.no_grad():\n",
    "            model.eval()\n",
    "\n",
    "            for x_batch, y_batch in valid_dloader.next_batch():\n",
    "                x_batch = torch.FloatTensor(x_batch).cuda()\n",
    "                y_batch = torch.LongTensor(y_batch).cuda()\n",
    "\n",
    "                logps = model(x_batch)\n",
    "                loss = criterion(logps, y_batch)\n",
    "\n",
    "                valid_loss += loss.item()\n",
    "\n",
    "                ps = torch.exp(logps)\n",
    "                ps_k, cls_k = ps.topk(1, dim=1)\n",
    "                equal = cls_k == y_batch.view(*cls_k.size())\n",
    "                valid_acc += torch.mean(equal.type(torch.FloatTensor))\n",
    "\n",
    "            train_loss /= len(train_dloader)\n",
    "            train_acc /= len(train_dloader)\n",
    "            valid_loss /= len(valid_dloader)\n",
    "            valid_acc /= len(valid_dloader)\n",
    "\n",
    "            print(f\"Epochs: {e+1}/{EPOCHS}\")\n",
    "            print(f\"Train loss: {train_loss:.8f}\")\n",
    "            print(f\"Train acc: {train_acc:.8f}\")\n",
    "            print(f\"Valid loss: {valid_loss:.8f}\")\n",
    "            print(f\"Valid acc: {valid_acc:.8f}\")\n",
    "            \n",
    "            if top_valid_acc < valid_acc:\n",
    "                top_valid_acc = valid_acc\n",
    "                model.save(CLF_CKPT_PATH)\n",
    "\n",
    "            model.train()"
   ]
  },
  {
   "cell_type": "code",
   "execution_count": null,
   "metadata": {},
   "outputs": [],
   "source": []
  }
 ],
 "metadata": {
  "kernelspec": {
   "display_name": "Python 3",
   "language": "python",
   "name": "python3"
  },
  "language_info": {
   "codemirror_mode": {
    "name": "ipython",
    "version": 3
   },
   "file_extension": ".py",
   "mimetype": "text/x-python",
   "name": "python",
   "nbconvert_exporter": "python",
   "pygments_lexer": "ipython3",
   "version": "3.7.4"
  }
 },
 "nbformat": 4,
 "nbformat_minor": 4
}
