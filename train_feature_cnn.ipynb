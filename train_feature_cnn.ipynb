{
 "cells": [
  {
   "cell_type": "code",
   "execution_count": 1,
   "metadata": {},
   "outputs": [
    {
     "name": "stdout",
     "output_type": "stream",
     "text": [
      "True\n"
     ]
    }
   ],
   "source": [
    "import torch\n",
    "import torch.nn as nn\n",
    "import torch.optim as optim\n",
    "\n",
    "import numpy as np\n",
    "import matplotlib.pyplot as plt\n",
    "\n",
    "from ai.FeatureCNN import FeatureCNN\n",
    "from ai.DataLoader import DataLoader\n",
    "from env import *\n",
    "\n",
    "ETA = 1e-2\n",
    "EPOCHS = 1000\n",
    "\n",
    "print(torch.cuda.is_available())"
   ]
  },
  {
   "cell_type": "code",
   "execution_count": 2,
   "metadata": {},
   "outputs": [
    {
     "name": "stdout",
     "output_type": "stream",
     "text": [
      "Number of data batch: 793\n",
      "Number of batch: 100\n",
      "Number of data batch: 65\n",
      "Number of batch: 9\n"
     ]
    }
   ],
   "source": [
    "train_dloader = DataLoader(TRASH_TRAIN_DATA_PATH, TRASH_CAT, noise=True)\n",
    "valid_dloader = DataLoader(TRASH_VALID_DATA_PATH, TRASH_CAT, noise=True)"
   ]
  },
  {
   "cell_type": "code",
   "execution_count": 3,
   "metadata": {},
   "outputs": [],
   "source": [
    "model = FeatureCNN()\n",
    "model = model.cuda()"
   ]
  },
  {
   "cell_type": "code",
   "execution_count": 4,
   "metadata": {},
   "outputs": [],
   "source": [
    "optimizer = optim.Adam(model.parameters(), lr=ETA)\n",
    "criterion = nn.NLLLoss()"
   ]
  },
  {
   "cell_type": "code",
   "execution_count": 5,
   "metadata": {},
   "outputs": [
    {
     "name": "stdout",
     "output_type": "stream",
     "text": [
      "FeatureCNN was loaded.\n",
      "Epochs: 10/1000\n",
      "Train loss: 0.26553818\n",
      "Train acc: 0.90933591\n",
      "Valid loss: 0.70780984\n",
      "Valid acc: 0.79340279\n",
      "FeatureCNN was saved.\n",
      "Epochs: 20/1000\n",
      "Train loss: 0.21528077\n",
      "Train acc: 0.92808592\n",
      "Valid loss: 0.58851199\n",
      "Valid acc: 0.80555558\n",
      "FeatureCNN was saved.\n",
      "Epochs: 30/1000\n",
      "Train loss: 0.20298193\n",
      "Train acc: 0.93671876\n",
      "Valid loss: 0.51868378\n",
      "Valid acc: 0.84809029\n",
      "FeatureCNN was saved.\n",
      "Epochs: 40/1000\n",
      "Train loss: 0.14366819\n",
      "Train acc: 0.95316404\n",
      "Valid loss: 0.44810196\n",
      "Valid acc: 0.89192706\n",
      "FeatureCNN was saved.\n",
      "Epochs: 50/1000\n",
      "Train loss: 0.10032926\n",
      "Train acc: 0.96753907\n",
      "Valid loss: 0.49570900\n",
      "Valid acc: 0.88411456\n",
      "Epochs: 60/1000\n",
      "Train loss: 0.14908279\n",
      "Train acc: 0.95609373\n",
      "Valid loss: 0.37304176\n",
      "Valid acc: 0.89843750\n",
      "FeatureCNN was saved.\n",
      "Epochs: 70/1000\n",
      "Train loss: 0.08379078\n",
      "Train acc: 0.97230470\n",
      "Valid loss: 0.50962783\n",
      "Valid acc: 0.88281250\n",
      "Epochs: 80/1000\n",
      "Train loss: 0.08083974\n",
      "Train acc: 0.97457033\n",
      "Valid loss: 0.43672332\n",
      "Valid acc: 0.92230904\n",
      "FeatureCNN was saved.\n",
      "Epochs: 90/1000\n",
      "Train loss: 0.09570919\n",
      "Train acc: 0.97167969\n",
      "Valid loss: 0.91857791\n",
      "Valid acc: 0.84288192\n",
      "Epochs: 100/1000\n",
      "Train loss: 0.07709949\n",
      "Train acc: 0.97753906\n",
      "Valid loss: 0.70044329\n",
      "Valid acc: 0.90538192\n",
      "Epochs: 110/1000\n",
      "Train loss: 0.08875291\n",
      "Train acc: 0.97476560\n",
      "Valid loss: 0.76696452\n",
      "Valid acc: 0.86111110\n"
     ]
    },
    {
     "ename": "KeyboardInterrupt",
     "evalue": "",
     "output_type": "error",
     "traceback": [
      "\u001b[0;31m---------------------------------------------------------------------------\u001b[0m",
      "\u001b[0;31mKeyboardInterrupt\u001b[0m                         Traceback (most recent call last)",
      "\u001b[0;32m<ipython-input-5-f4a84cf6463b>\u001b[0m in \u001b[0;36m<module>\u001b[0;34m\u001b[0m\n\u001b[1;32m     17\u001b[0m         \u001b[0mlatent\u001b[0m\u001b[0;34m,\u001b[0m \u001b[0mlogps\u001b[0m \u001b[0;34m=\u001b[0m \u001b[0mmodel\u001b[0m\u001b[0;34m(\u001b[0m\u001b[0mx_batch\u001b[0m\u001b[0;34m)\u001b[0m\u001b[0;34m\u001b[0m\u001b[0;34m\u001b[0m\u001b[0m\n\u001b[1;32m     18\u001b[0m         \u001b[0mloss\u001b[0m \u001b[0;34m=\u001b[0m \u001b[0mcriterion\u001b[0m\u001b[0;34m(\u001b[0m\u001b[0mlogps\u001b[0m\u001b[0;34m,\u001b[0m \u001b[0my_batch\u001b[0m\u001b[0;34m)\u001b[0m\u001b[0;34m\u001b[0m\u001b[0;34m\u001b[0m\u001b[0m\n\u001b[0;32m---> 19\u001b[0;31m         \u001b[0mtrain_loss\u001b[0m \u001b[0;34m+=\u001b[0m \u001b[0mloss\u001b[0m\u001b[0;34m.\u001b[0m\u001b[0mitem\u001b[0m\u001b[0;34m(\u001b[0m\u001b[0;34m)\u001b[0m\u001b[0;34m\u001b[0m\u001b[0;34m\u001b[0m\u001b[0m\n\u001b[0m\u001b[1;32m     20\u001b[0m \u001b[0;34m\u001b[0m\u001b[0m\n\u001b[1;32m     21\u001b[0m         \u001b[0;32mwith\u001b[0m \u001b[0mtorch\u001b[0m\u001b[0;34m.\u001b[0m\u001b[0mno_grad\u001b[0m\u001b[0;34m(\u001b[0m\u001b[0;34m)\u001b[0m\u001b[0;34m:\u001b[0m\u001b[0;34m\u001b[0m\u001b[0;34m\u001b[0m\u001b[0m\n",
      "\u001b[0;31mKeyboardInterrupt\u001b[0m: "
     ]
    }
   ],
   "source": [
    "model.load(CNN_CKPT_PATH)\n",
    "\n",
    "top_valid_acc = 0.0\n",
    "\n",
    "for e in range(EPOCHS):\n",
    "    \n",
    "    train_loss = 0.0\n",
    "    train_clf_acc = 0.0\n",
    "    \n",
    "    for x_batch_, y_batch_ in train_dloader.next_batch():\n",
    "        x_batch_ = x_batch_.reshape(-1, IN_CHANNEL, HEIGHT, WIDTH)\n",
    "        y_batch = np.repeat(y_batch_, 8, axis=0)\n",
    "        \n",
    "        x_batch = torch.FloatTensor(x_batch_).cuda()\n",
    "        y_batch = torch.LongTensor(y_batch).cuda()\n",
    "        \n",
    "        latent, logps = model(x_batch)\n",
    "        loss = criterion(logps, y_batch)\n",
    "        train_loss += loss.item()\n",
    "        \n",
    "        with torch.no_grad():\n",
    "            ps = torch.exp(logps)\n",
    "            val_k, cls_k = ps.topk(1, dim=1)\n",
    "            equal = cls_k == y_batch.view(*cls_k.size())\n",
    "            train_clf_acc += torch.mean(equal.type(torch.FloatTensor))\n",
    "            \n",
    "        optimizer.zero_grad()\n",
    "        loss.backward()\n",
    "        optimizer.step()\n",
    "    \n",
    "    if (e+1) % 10 == 0:\n",
    "        \n",
    "        valid_loss = 0.0\n",
    "        valid_clf_acc = 0.0\n",
    "        \n",
    "        with torch.no_grad():\n",
    "            model.eval()\n",
    "            \n",
    "            for x_batch_, y_batch_ in valid_dloader.next_batch():\n",
    "                x_batch_ = x_batch_.reshape(-1, IN_CHANNEL, HEIGHT, WIDTH)\n",
    "                y_batch = np.repeat(y_batch_, 8, axis=0)\n",
    "                \n",
    "                x_batch = torch.FloatTensor(x_batch_).cuda()\n",
    "                y_batch = torch.LongTensor(y_batch).cuda()\n",
    "\n",
    "                latent, logps = model(x_batch)\n",
    "                ps = torch.exp(logps)\n",
    "                _, topk = ps.topk(1, dim=1)\n",
    "                equal = topk == y_batch.view(*topk.size())\n",
    "                valid_clf_acc += torch.mean(equal.type(torch.FloatTensor))\n",
    "        \n",
    "                loss = criterion(logps, y_batch)\n",
    "                valid_loss += loss.item()\n",
    "\n",
    "            train_loss /= len(train_dloader)\n",
    "            train_clf_acc /= len(train_dloader)\n",
    "            valid_loss /= len(valid_dloader)\n",
    "            valid_clf_acc /= len(valid_dloader)\n",
    "\n",
    "            print(f\"Epochs: {e+1}/{EPOCHS}\")\n",
    "            print(f\"Train loss: {train_loss:.8f}\")\n",
    "            print(f\"Train acc: {train_clf_acc:.8f}\")\n",
    "            print(f\"Valid loss: {valid_loss:.8f}\")\n",
    "            print(f\"Valid acc: {valid_clf_acc:.8f}\")\n",
    "            \n",
    "            if top_valid_acc < valid_clf_acc:\n",
    "                top_valid_acc = valid_clf_acc\n",
    "                model.save(CNN_CKPT_PATH)\n",
    "\n",
    "            model.train()\n",
    "        \n",
    "# model.save(CNN_CKPT_PATH)"
   ]
  },
  {
   "cell_type": "code",
   "execution_count": null,
   "metadata": {},
   "outputs": [],
   "source": []
  }
 ],
 "metadata": {
  "kernelspec": {
   "display_name": "Python 3",
   "language": "python",
   "name": "python3"
  },
  "language_info": {
   "codemirror_mode": {
    "name": "ipython",
    "version": 3
   },
   "file_extension": ".py",
   "mimetype": "text/x-python",
   "name": "python",
   "nbconvert_exporter": "python",
   "pygments_lexer": "ipython3",
   "version": "3.7.4"
  }
 },
 "nbformat": 4,
 "nbformat_minor": 4
}
