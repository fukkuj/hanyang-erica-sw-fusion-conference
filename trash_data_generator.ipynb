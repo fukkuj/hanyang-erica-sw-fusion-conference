{
 "cells": [
  {
   "cell_type": "code",
   "execution_count": 1,
   "metadata": {},
   "outputs": [],
   "source": [
    "from env import *\n",
    "\n",
    "import numpy as np\n",
    "import pathlib\n",
    "import os\n",
    "import shutil"
   ]
  },
  {
   "cell_type": "code",
   "execution_count": 2,
   "metadata": {},
   "outputs": [],
   "source": [
    "def sync_1_2(cat):\n",
    "    from_path = os.path.join(TRASH_TRAIN_DATA_PATH, f\"{cat}/1\").replace(\"\\\\\", \"/\")\n",
    "    path_2 = os.path.join(TRAIN_DATA_PATH, f\"{cat}/2\").replace(\"\\\\\", \"/\")\n",
    "    to_path = os.path.join(TRASH_TRAIN_DATA_PATH, f\"{cat}/2\").replace(\"\\\\\", \"/\")\n",
    "    \n",
    "    for d in pathlib.Path(from_path).glob(\"*\"):\n",
    "        if os.path.isdir(d):\n",
    "            for f in d.glob(\"*.jpg\"):\n",
    "                filename = f.name\n",
    "                \n",
    "                if \" - 복사본.jpg\" in filename:\n",
    "                    filename = filename.replace(\" - 복사본\", \"2\")\n",
    "                elif \" - 복사본 (2).jpg\" in filename:\n",
    "                    filename = filename.replace(\" - 복사본 (2)\", \"3\")\n",
    "                elif \" - 복사본 (3).jpg\" in filename:\n",
    "                    filename = filename.replace(\" - 복사본 (3)\", \"4\")\n",
    "                elif \" - 복사본 (4).jpg\" in filename:\n",
    "                    filename = filename.replace(\" - 복사본 (4)\", \"5\")\n",
    "                elif \" - 복사본 (5).jpg\" in filename:\n",
    "                    filename = filename.replace(\" - 복사본 (5)\", \"6\")\n",
    "                elif \" - 복사본 (6).jpg\" in filename:\n",
    "                    filename = filename.replace(\" - 복사본 (6)\", \"7\")\n",
    "                elif \" - 복사본 (7).jpg\" in filename:\n",
    "                    filename = filename.replace(\" - 복사본 (7)\", \"8\")\n",
    "                elif \"_1.jpg\" in filename:\n",
    "                    filename = filename.replace(\".jpg\", \"1.jpg\")\n",
    "                else:\n",
    "                    break\n",
    "                    \n",
    "                if not os.path.exists(os.path.join(to_path, f.parent.name).replace(\"\\\\\", \"/\")):\n",
    "                    os.mkdir(os.path.join(to_path, f.parent.name).replace(\"\\\\\", \"/\"))\n",
    "                    \n",
    "                filename_split = filename.split(\"_\")\n",
    "                \n",
    "                filename2 = filename_split[0] + \"_2\"\n",
    "                \n",
    "                if filename_split[1] == \"11.jpg\":\n",
    "                    to_path2 = os.path.join(to_path, f.parents[0].name, filename2 + \"1.jpg\").replace(\"\\\\\", \"/\")\n",
    "                elif filename_split[1] == \"12.jpg\":\n",
    "                    to_path2 = os.path.join(to_path, f.parents[0].name, filename2 + \"2.jpg\").replace(\"\\\\\", \"/\")\n",
    "                elif filename_split[1] == \"13.jpg\":\n",
    "                    to_path2 = os.path.join(to_path, f.parents[0].name, filename2 + \"3.jpg\").replace(\"\\\\\", \"/\")\n",
    "                elif filename_split[1] == \"14.jpg\":\n",
    "                    to_path2 = os.path.join(to_path, f.parents[0].name, filename2 + \"4.jpg\").replace(\"\\\\\", \"/\")\n",
    "                elif filename_split[1] == \"15.jpg\":\n",
    "                    to_path2 = os.path.join(to_path, f.parents[0].name, filename2 + \"5.jpg\").replace(\"\\\\\", \"/\")\n",
    "                elif filename_split[1] == \"16.jpg\":\n",
    "                    to_path2 = os.path.join(to_path, f.parents[0].name, filename2 + \"6.jpg\").replace(\"\\\\\", \"/\")\n",
    "                elif filename_split[1] == \"17.jpg\":\n",
    "                    to_path2 = os.path.join(to_path, f.parents[0].name, filename2 + \"7.jpg\").replace(\"\\\\\", \"/\")\n",
    "                elif filename_split[1] == \"18.jpg\":\n",
    "                    to_path2 = os.path.join(to_path, f.parents[0].name, filename2 + \"8.jpg\").replace(\"\\\\\", \"/\")\n",
    "                    \n",
    "                filename2 = os.path.join(path_2, filename2 + \".jpg\").replace(\"\\\\\", \"/\")\n",
    "                    \n",
    "                shutil.move(str(f), str(f).replace(f.name, filename))\n",
    "                shutil.copy(filename2, to_path2)\n",
    "                \n",
    "#                 print(str(f).replace(f.name, filename))\n",
    "#                 print(filename2)\n",
    "#                 print(to_path2)\n",
    "                \n",
    "#                 break"
   ]
  },
  {
   "cell_type": "code",
   "execution_count": 8,
   "metadata": {},
   "outputs": [],
   "source": [
    "sync_1_2(\"can\")"
   ]
  },
  {
   "cell_type": "code",
   "execution_count": 9,
   "metadata": {},
   "outputs": [],
   "source": [
    "sync_1_2(\"glass\")"
   ]
  },
  {
   "cell_type": "code",
   "execution_count": 10,
   "metadata": {},
   "outputs": [],
   "source": [
    "sync_1_2(\"paper\")"
   ]
  },
  {
   "cell_type": "code",
   "execution_count": 11,
   "metadata": {},
   "outputs": [],
   "source": [
    "sync_1_2(\"plastic\")"
   ]
  },
  {
   "cell_type": "code",
   "execution_count": null,
   "metadata": {},
   "outputs": [],
   "source": []
  }
 ],
 "metadata": {
  "kernelspec": {
   "display_name": "Python 3",
   "language": "python",
   "name": "python3"
  },
  "language_info": {
   "codemirror_mode": {
    "name": "ipython",
    "version": 3
   },
   "file_extension": ".py",
   "mimetype": "text/x-python",
   "name": "python",
   "nbconvert_exporter": "python",
   "pygments_lexer": "ipython3",
   "version": "3.7.4"
  }
 },
 "nbformat": 4,
 "nbformat_minor": 4
}
